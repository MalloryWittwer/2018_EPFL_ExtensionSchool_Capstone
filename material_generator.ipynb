{
 "cells": [
  {
   "cell_type": "markdown",
   "metadata": {},
   "source": [
    "## Rendering virtual materials with Blender\n",
    "\n",
    "Make sure the attached **materials_artist.blend** file is available. By default, images are saved in the **/renders** folder."
   ]
  },
  {
   "cell_type": "code",
   "execution_count": 9,
   "metadata": {},
   "outputs": [],
   "source": [
    "import os\n",
    "import time\n",
    "import numpy as np\n",
    "import matplotlib.pyplot as plt\n",
    "from PIL import Image\n",
    "import tensorflow as tf\n",
    "import piexif\n",
    "import piexif.helper\n",
    "import json\n",
    "import glob\n",
    "\n",
    "import warnings\n",
    "warnings.filterwarnings('ignore')\n",
    "\n",
    "def read_metaImage(root):\n",
    "    '''Reads metadata embedded in a JPG image.'''\n",
    "    exif_dict = piexif.load(root)\n",
    "    user_comment = piexif.helper.UserComment.load(exif_dict[\"Exif\"][piexif.ExifIFD.UserComment])\n",
    "    d = json.loads(user_comment)\n",
    "    return d\n",
    "\n",
    "def render_image(file, render_params, material_params, texture_params, suzanne=False):\n",
    "    '''Generates a texture image based on selected parameters (render properties).'''\n",
    "    # Set up temporary buffer directory\n",
    "    base_root = os.getcwd()\n",
    "    dst_root = root = os.path.abspath(os.path.join(base_root, f'renders/{file}.jpg'))\n",
    "    root = os.path.abspath(os.path.join(base_root, f'renders/buffer/{file}.jpg'))\n",
    "    width = render_params.get('width')\n",
    "    height = render_params.get('height')\n",
    "    \n",
    "    # Save empty image in buffer\n",
    "    Image.fromarray(np.zeros((width, height, 3), dtype=np.uint8)).save(root)\n",
    "    \n",
    "    all_params = {\n",
    "        'render_params':render_params,\n",
    "        'material_params':material_params,\n",
    "        'texture_params':texture_params,\n",
    "    }\n",
    "    \n",
    "    # Embed metadata (render properties)\n",
    "    exif_dict = piexif.load(root)\n",
    "    exif_dict[\"Exif\"][piexif.ExifIFD.UserComment] = piexif.helper.UserComment.dump(json.dumps(all_params), encoding=\"unicode\")\n",
    "    piexif.insert(piexif.dump(exif_dict), root)\n",
    "    \n",
    "    # Run blender file to render image\n",
    "    if suzanne:\n",
    "        !blender -b suzanne_artist.blend --python-text suzanne_engine\n",
    "    else:\n",
    "        !blender -b materials_artist.blend --python-text texture_engine\n",
    "    \n",
    "    # Remove temporary file\n",
    "    os.remove(root)\n",
    "    \n",
    "    # Return rendered image\n",
    "    im = np.array(Image.open(os.path.splitext(dst_root)[-2]+'.jpg'))[...,:3]\n",
    "    \n",
    "    return im, dst_root\n",
    "\n",
    "def render_batch(n, width=150, height=150, samples=32):\n",
    "    textures = {'Brick':1, 'Checker':1, 'Magic':2, 'Noise':2, 'Wave':2}\n",
    "    for k in range(n):\n",
    "        tex = np.random.choice(list(textures.keys()))\n",
    "        n_param = textures[tex]\n",
    "        im, root = render_image(\n",
    "            file=f'{k}', \n",
    "            render_params={\n",
    "                'width':width,\n",
    "                'height':height,\n",
    "                'samples':samples,\n",
    "            },\n",
    "            material_params={\n",
    "                'glossy_mix':0.0,\n",
    "                'roughness':0.0,\n",
    "                'R1':np.random.uniform(), 'G1':np.random.uniform(), 'B1':np.random.uniform(),\n",
    "                'R2':np.random.uniform(), 'G2':np.random.uniform(), 'B2':np.random.uniform(),\n",
    "            },\n",
    "            texture_params={\n",
    "                tex:list(np.random.uniform(size=n_param))\n",
    "            },\n",
    "        )"
   ]
  },
  {
   "cell_type": "code",
   "execution_count": 11,
   "metadata": {
    "scrolled": true
   },
   "outputs": [],
   "source": [
    "### Example: Render 10 images (/!\\ ~2-5 sec. per image!)\n",
    "render_batch(n=10, width=150, height=150, samples=32, )"
   ]
  },
  {
   "cell_type": "code",
   "execution_count": null,
   "metadata": {},
   "outputs": [],
   "source": []
  }
 ],
 "metadata": {
  "kernelspec": {
   "display_name": "Python 3",
   "language": "python",
   "name": "python3"
  },
  "language_info": {
   "codemirror_mode": {
    "name": "ipython",
    "version": 3
   },
   "file_extension": ".py",
   "mimetype": "text/x-python",
   "name": "python",
   "nbconvert_exporter": "python",
   "pygments_lexer": "ipython3",
   "version": "3.8.5"
  }
 },
 "nbformat": 4,
 "nbformat_minor": 4
}
